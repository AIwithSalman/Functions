{
 "cells": [
  {
   "cell_type": "code",
   "execution_count": 1,
   "id": "2047ea3c",
   "metadata": {},
   "outputs": [],
   "source": [
    "#Create a class and fucntion, and list out the items in the list"
   ]
  },
  {
   "cell_type": "code",
   "execution_count": 10,
   "id": "d731a981",
   "metadata": {},
   "outputs": [],
   "source": [
    "def subfieldinAI():\n",
    "    fields = [\"Machine Learning\", \"Neural Networks\", \"Vision\", \"Robotics\", \"Speech Processing\", \"Natural Language Processing\"]\n",
    "    print(fields)"
   ]
  },
  {
   "cell_type": "code",
   "execution_count": 11,
   "id": "3daf6840",
   "metadata": {},
   "outputs": [
    {
     "name": "stdout",
     "output_type": "stream",
     "text": [
      "['Machine Learning', 'Neural Networks', 'Vision', 'Robotics', 'Speech Processing', 'Natural Language Processing']\n"
     ]
    }
   ],
   "source": [
    "subfieldinAI()"
   ]
  },
  {
   "cell_type": "code",
   "execution_count": null,
   "id": "c8709a02",
   "metadata": {},
   "outputs": [],
   "source": [
    "# Create a function that checks whether the given number is Odd or Even"
   ]
  },
  {
   "cell_type": "code",
   "execution_count": 16,
   "id": "7624897b",
   "metadata": {},
   "outputs": [],
   "source": [
    "def oddEven():\n",
    "    num=int(input(\"Enter the number:\"))\n",
    "    if((num%2)==1):\n",
    "        print(\"Odd Number\")\n",
    "        message=\"Odd Number\"\n",
    "    else:\n",
    "        print(\"Even Number\")\n",
    "        message=\"Even Number\"\n",
    "    return message"
   ]
  },
  {
   "cell_type": "code",
   "execution_count": 17,
   "id": "936395a7",
   "metadata": {},
   "outputs": [
    {
     "name": "stdout",
     "output_type": "stream",
     "text": [
      "Enter the number:52542\n",
      "Even Number\n"
     ]
    }
   ],
   "source": [
    "message=oddEven()"
   ]
  },
  {
   "cell_type": "code",
   "execution_count": 18,
   "id": "cc62edd4",
   "metadata": {},
   "outputs": [
    {
     "name": "stdout",
     "output_type": "stream",
     "text": [
      " The given number is Even\n"
     ]
    }
   ],
   "source": [
    "if(message==\"Even Number\"):\n",
    "    print(\" The given number is Even\")\n",
    "else:\n",
    "    print(\"The given number is odd\")"
   ]
  },
  {
   "cell_type": "code",
   "execution_count": null,
   "id": "f3c6872a",
   "metadata": {},
   "outputs": [],
   "source": [
    "# Create a function that tells elegibility of marriage for male and female according to their age limit like 21 for male and 18 for female"
   ]
  },
  {
   "cell_type": "code",
   "execution_count": 26,
   "id": "fd982234",
   "metadata": {},
   "outputs": [],
   "source": [
    "def check_marriage_eligibility(age, gender):\n",
    "    if gender.lower() == \"male\":\n",
    "        if age >= 21:\n",
    "            return \"Eligible for marriage\"\n",
    "        else:\n",
    "            return \"Not eligible for marriage\"\n",
    "    elif gender.lower() == \"female\":\n",
    "        if age >= 18:\n",
    "            return \"Eligible for marriage\"\n",
    "        else:\n",
    "            return \"Not eligible for marriage\"\n",
    "    else:\n",
    "        return \"Invalid gender\"\n",
    "\n"
   ]
  },
  {
   "cell_type": "code",
   "execution_count": 27,
   "id": "d35c9aea",
   "metadata": {},
   "outputs": [
    {
     "name": "stdout",
     "output_type": "stream",
     "text": [
      "Enter age: 21\n",
      "Enter gender (male/female): male\n"
     ]
    }
   ],
   "source": [
    "age = int(input(\"Enter age: \"))\n",
    "gender = input(\"Enter gender (male/female): \")\n"
   ]
  },
  {
   "cell_type": "code",
   "execution_count": 28,
   "id": "04da2130",
   "metadata": {},
   "outputs": [
    {
     "name": "stdout",
     "output_type": "stream",
     "text": [
      "Eligible for marriage\n"
     ]
    }
   ],
   "source": [
    "result = check_marriage_eligibility(age, gender)\n",
    "print(result)"
   ]
  },
  {
   "cell_type": "code",
   "execution_count": 29,
   "id": "10cf9b15",
   "metadata": {},
   "outputs": [],
   "source": [
    "# calculate the percentage of your 10th mark"
   ]
  },
  {
   "cell_type": "code",
   "execution_count": 38,
   "id": "3e96be89",
   "metadata": {},
   "outputs": [],
   "source": [
    "def calculate_percentage(subject1, subject2, subject3, subject4, subject5):\n",
    "    total_marks = subject1 + subject2 + subject3 + subject4 + subject5\n",
    "    percentage = (total_marks / 500) * 100\n",
    "    print(\"Total Marks: \" + str(total_marks) + \" / 500\")\n",
    "    print(\"Percentage: \" + str(round(percentage, 2)) + \"%\")"
   ]
  },
  {
   "cell_type": "code",
   "execution_count": 39,
   "id": "3cb605eb",
   "metadata": {},
   "outputs": [
    {
     "name": "stdout",
     "output_type": "stream",
     "text": [
      "Total Marks: 468 / 500\n",
      "Percentage: 93.6%\n"
     ]
    }
   ],
   "source": [
    "calculate_percentage(98, 87, 95, 95, 93)"
   ]
  },
  {
   "cell_type": "code",
   "execution_count": null,
   "id": "c7eaaab7",
   "metadata": {},
   "outputs": [],
   "source": [
    "#print area and perimeter of triangle using class and functions"
   ]
  },
  {
   "cell_type": "code",
   "execution_count": 45,
   "id": "8af1dbda",
   "metadata": {},
   "outputs": [],
   "source": [
    "class Triangle:\n",
    "    def __init__(self, height, breadth, height1=None, height2=None):\n",
    "        self.height = height\n",
    "        self.breadth = breadth\n",
    "        self.height1 = height1\n",
    "        self.height2 = height2\n",
    "\n",
    "    def area(self):\n",
    "        # Area of triangle: (Height * Breadth) / 2\n",
    "        return (self.height * self.breadth) / 2\n",
    "\n",
    "    def perimeter(self):\n",
    "        # Perimeter of triangle: Height1 + Height2 + Breadth\n",
    "        if self.height1 and self.height2:\n",
    "            return self.height1 + self.height2 + self.breadth\n",
    "        else:\n",
    "            return \"Cannot calculate perimeter without additional sides\""
   ]
  },
  {
   "cell_type": "code",
   "execution_count": 46,
   "id": "678e42b6",
   "metadata": {},
   "outputs": [],
   "source": [
    "height = 32    \n",
    "breadth = 34   \n",
    "height1 = 2    \n",
    "height2 = 4    \n",
    "\n",
    "triangle = Triangle(height, breadth, height1, height2)"
   ]
  },
  {
   "cell_type": "code",
   "execution_count": 47,
   "id": "fe9ff1f8",
   "metadata": {},
   "outputs": [
    {
     "name": "stdout",
     "output_type": "stream",
     "text": [
      "Height: 32\n",
      "Breadth: 34\n",
      "Area formula: (Height * Breadth) / 2\n",
      "Area of Triangle: 544.0\n",
      "\n",
      "Height1: 2\n",
      "Height2: 4\n",
      "Breadth: 34\n",
      "Perimeter formula: Height1 + Height2 + Breadth\n",
      "Perimeter of Triangle: 40\n"
     ]
    }
   ],
   "source": [
    "print(f\"Height: {triangle.height}\")\n",
    "print(f\"Breadth: {triangle.breadth}\")\n",
    "print(f\"Area formula: (Height * Breadth) / 2\")\n",
    "print(f\"Area of Triangle: {triangle.area()}\")\n",
    "\n",
    "print(f\"\\nHeight1: {triangle.height1}\")\n",
    "print(f\"Height2: {triangle.height2}\")\n",
    "print(f\"Breadth: {triangle.breadth}\")\n",
    "print(f\"Perimeter formula: Height1 + Height2 + Breadth\")\n",
    "print(f\"Perimeter of Triangle: {triangle.perimeter()}\")"
   ]
  },
  {
   "cell_type": "code",
   "execution_count": null,
   "id": "a287ed5a",
   "metadata": {},
   "outputs": [],
   "source": []
  }
 ],
 "metadata": {
  "kernelspec": {
   "display_name": "Python 3 (ipykernel)",
   "language": "python",
   "name": "python3"
  },
  "language_info": {
   "codemirror_mode": {
    "name": "ipython",
    "version": 3
   },
   "file_extension": ".py",
   "mimetype": "text/x-python",
   "name": "python",
   "nbconvert_exporter": "python",
   "pygments_lexer": "ipython3",
   "version": "3.11.5"
  }
 },
 "nbformat": 4,
 "nbformat_minor": 5
}
